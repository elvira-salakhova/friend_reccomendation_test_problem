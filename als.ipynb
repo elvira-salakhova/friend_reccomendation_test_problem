{
 "cells": [
  {
   "cell_type": "code",
   "execution_count": 1,
   "id": "2a872ab5",
   "metadata": {},
   "outputs": [],
   "source": [
    "import pandas as pd\n",
    "import networkx as nx\n",
    "import implicit\n",
    "from utils import get_test_edges, get_graph, get_links, recall_at_k"
   ]
  },
  {
   "cell_type": "markdown",
   "id": "8bd05701",
   "metadata": {},
   "source": [
    "## Data preparation, train-test split"
   ]
  },
  {
   "cell_type": "code",
   "execution_count": 2,
   "id": "b5710d5a",
   "metadata": {},
   "outputs": [],
   "source": [
    "data_tr = pd.read_csv(\"vk_friends_test_candidate/data_tr.csv\")\n",
    "full_data = data_tr.drop('t', axis=1)\n",
    "test_edges = get_test_edges(data_tr, edges_threshold=6, n_smallest=3)\n",
    "full_graph = get_graph(full_data)\n",
    "train_graph = full_graph.copy()\n",
    "train_graph.remove_edges_from(test_edges.values)"
   ]
  },
  {
   "cell_type": "code",
   "execution_count": 3,
   "id": "8de51750",
   "metadata": {},
   "outputs": [
    {
     "name": "stdout",
     "output_type": "stream",
     "text": [
      "Test edges ratio: 0.11707708449052645\n"
     ]
    }
   ],
   "source": [
    "print(\"Test edges ratio:\", test_edges.shape[0] / len(full_graph.edges()))"
   ]
  },
  {
   "cell_type": "markdown",
   "id": "6f914238",
   "metadata": {},
   "source": [
    "## Recommender based in ALS"
   ]
  },
  {
   "cell_type": "code",
   "execution_count": 4,
   "id": "fa2c9c14",
   "metadata": {},
   "outputs": [],
   "source": [
    "adj_matrix = nx.adjacency_matrix(train_graph)"
   ]
  },
  {
   "cell_type": "code",
   "execution_count": 5,
   "id": "5e03a7b8",
   "metadata": {},
   "outputs": [],
   "source": [
    "users_to_index = {value : index for index, value in zip(range(len(full_graph.nodes())), full_graph.nodes())}\n",
    "index_to_users = {index : value for index, value in zip(range(len(full_graph.nodes())), full_graph.nodes())}"
   ]
  },
  {
   "cell_type": "code",
   "execution_count": 6,
   "id": "fc5e3cc5",
   "metadata": {},
   "outputs": [
    {
     "name": "stderr",
     "output_type": "stream",
     "text": [
      "C:\\Users\\Elvira\\anaconda3\\envs\\my_env\\lib\\site-packages\\implicit\\utils.py:33: UserWarning: Intel MKL BLAS detected. Its highly recommend to set the environment variable 'export MKL_NUM_THREADS=1' to disable its internal multithreading\n",
      "  warnings.warn(\n"
     ]
    },
    {
     "data": {
      "application/vnd.jupyter.widget-view+json": {
       "model_id": "adcf103676524585a9ebb7462f3b68f7",
       "version_major": 2,
       "version_minor": 0
      },
      "text/plain": [
       "  0%|          | 0/15 [00:00<?, ?it/s]"
      ]
     },
     "metadata": {},
     "output_type": "display_data"
    }
   ],
   "source": [
    "model = implicit.als.AlternatingLeastSquares(factors=200, alpha=2, regularization=0.01)\n",
    "model.fit(adj_matrix)"
   ]
  },
  {
   "cell_type": "code",
   "execution_count": 7,
   "id": "5e11c6da",
   "metadata": {},
   "outputs": [],
   "source": [
    "def index_to_users_f(recommendation_id, index_to_users=index_to_users):\n",
    "    \"\"\"An auxiliary function that maps indeces from adjacency matrix to the actual user id.\"\"\"\n",
    "    return [index_to_users[index] for index in recommendation_id]"
   ]
  },
  {
   "cell_type": "code",
   "execution_count": 8,
   "id": "d3213957",
   "metadata": {},
   "outputs": [],
   "source": [
    "test_users = test_edges.u.unique()\n",
    "userids = [users_to_index[user] for user in test_users] \n",
    "recommendation_ids, scores = model.recommend(userids, adj_matrix[userids], N=10, filter_already_liked_items=True)\n",
    "recommendations = list(map(index_to_users_f, recommendation_ids))"
   ]
  },
  {
   "cell_type": "markdown",
   "id": "3e329c96",
   "metadata": {},
   "source": [
    "## Evaluation"
   ]
  },
  {
   "cell_type": "code",
   "execution_count": 9,
   "id": "2efc5cfe",
   "metadata": {},
   "outputs": [],
   "source": [
    "dict_actual = get_links(test_edges)"
   ]
  },
  {
   "cell_type": "code",
   "execution_count": 10,
   "id": "e70f8607",
   "metadata": {},
   "outputs": [],
   "source": [
    "dict_predicted = {user: set(recommendation) for user,recommendation in zip(test_users,recommendations) }"
   ]
  },
  {
   "cell_type": "code",
   "execution_count": 11,
   "id": "9ef737be",
   "metadata": {},
   "outputs": [
    {
     "data": {
      "text/plain": [
       "0.22263222632226323"
      ]
     },
     "execution_count": 11,
     "metadata": {},
     "output_type": "execute_result"
    }
   ],
   "source": [
    "recall_at_k(dict_predicted, dict_actual)"
   ]
  },
  {
   "cell_type": "markdown",
   "id": "d908a1e3",
   "metadata": {},
   "source": [
    "## Writing results to a file"
   ]
  },
  {
   "cell_type": "code",
   "execution_count": 12,
   "id": "2d349712",
   "metadata": {},
   "outputs": [],
   "source": [
    "all_users = list(full_graph.nodes())"
   ]
  },
  {
   "cell_type": "code",
   "execution_count": 13,
   "id": "268c9e73",
   "metadata": {},
   "outputs": [],
   "source": [
    "userids = [users_to_index[user] for user in all_users] \n",
    "recs, scores_all = model.recommend(userids, adj_matrix[userids], N=10, filter_already_liked_items=False)\n",
    "recommendations_all = list(map(index_to_users_f, recs))\n",
    "dict_predicted_all = {user: set(recommendation) for user,recommendation in zip(test_users,recommendations_all) }"
   ]
  },
  {
   "cell_type": "code",
   "execution_count": 14,
   "id": "b22f8f8c",
   "metadata": {},
   "outputs": [],
   "source": [
    "with open('recommendation_1_als.txt', 'w') as file:\n",
    "    for key, value in dict_predicted_all.items(): \n",
    "         file.write('%s: %s\\n' % (key,  \", \".join(map(str,value))))"
   ]
  },
  {
   "cell_type": "markdown",
   "id": "ce7a72e0",
   "metadata": {},
   "source": [
    "## Ranked"
   ]
  },
  {
   "cell_type": "code",
   "execution_count": 15,
   "id": "5820a3c2",
   "metadata": {},
   "outputs": [],
   "source": [
    "user_ids = pd.read_csv(\"vk_friends_test_candidate/user_ids.csv\")"
   ]
  },
  {
   "cell_type": "code",
   "execution_count": 16,
   "id": "31d417b3",
   "metadata": {},
   "outputs": [],
   "source": [
    "users_in_graph = set(user_ids.u.values) & set(all_users)\n",
    "new_users = set(user_ids.u.values) - set(all_users)\n",
    "userids = [users_to_index[user] for user in users_in_graph] \n",
    "recs, scores_all = model.recommend(userids, adj_matrix[userids], N=10, filter_already_liked_items=False)\n",
    "recommendations_all = list(map(index_to_users_f, recs))\n",
    "dict_predicted = {user: recommendation for user, recommendation in zip(users_in_graph,recommendations_all)}"
   ]
  },
  {
   "cell_type": "code",
   "execution_count": 17,
   "id": "2c0aec59",
   "metadata": {},
   "outputs": [],
   "source": [
    "the_most_popular_users = list(full_data.u.value_counts()[:10].index)\n",
    "for user in new_users:\n",
    "    dict_predicted[user] = the_most_popular_users"
   ]
  },
  {
   "cell_type": "markdown",
   "id": "931b83a4",
   "metadata": {},
   "source": [
    "## Writing results to a file"
   ]
  },
  {
   "cell_type": "code",
   "execution_count": 18,
   "id": "a82bc1a3",
   "metadata": {},
   "outputs": [],
   "source": [
    "with open('recommendation_2_als.txt', 'w') as file:\n",
    "    for key, value in dict_predicted.items(): \n",
    "         file.write('%s: %s\\n' % (key,  \", \".join(map(str,value))))"
   ]
  }
 ],
 "metadata": {
  "kernelspec": {
   "display_name": "Python 3 (ipykernel)",
   "language": "python",
   "name": "python3"
  },
  "language_info": {
   "codemirror_mode": {
    "name": "ipython",
    "version": 3
   },
   "file_extension": ".py",
   "mimetype": "text/x-python",
   "name": "python",
   "nbconvert_exporter": "python",
   "pygments_lexer": "ipython3",
   "version": "3.9.13"
  }
 },
 "nbformat": 4,
 "nbformat_minor": 5
}
